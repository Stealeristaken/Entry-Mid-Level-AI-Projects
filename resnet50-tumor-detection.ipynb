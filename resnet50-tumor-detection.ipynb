{
 "cells": [
  {
   "cell_type": "code",
   "execution_count": 1,
   "id": "73dc307d",
   "metadata": {
    "execution": {
     "iopub.execute_input": "2023-04-28T09:27:49.588643Z",
     "iopub.status.busy": "2023-04-28T09:27:49.588221Z",
     "iopub.status.idle": "2023-04-28T09:27:59.740031Z",
     "shell.execute_reply": "2023-04-28T09:27:59.738529Z"
    },
    "papermill": {
     "duration": 10.161074,
     "end_time": "2023-04-28T09:27:59.743107",
     "exception": false,
     "start_time": "2023-04-28T09:27:49.582033",
     "status": "completed"
    },
    "tags": []
   },
   "outputs": [],
   "source": [
    "import os \n",
    "import numpy as np\n",
    "import tensorflow\n",
    "import keras\n",
    "from keras.preprocessing.image import ImageDataGenerator\n",
    "from tensorflow.keras.applications.resnet50 import ResNet50\n",
    "from tensorflow.keras.applications.resnet50 import preprocess_input\n",
    "from keras.models import Sequential\n",
    "from keras.layers import Dense, Dropout, Flatten\n",
    "from tensorflow.keras import regularizers\n",
    "import matplotlib.pyplot as plt\n",
    "from keras.callbacks import ReduceLROnPlateau\n",
    "from tqdm.keras import TqdmCallback\n",
    "%matplotlib inline"
   ]
  },
  {
   "cell_type": "markdown",
   "id": "7610cd39",
   "metadata": {
    "papermill": {
     "duration": 0.002998,
     "end_time": "2023-04-28T09:27:59.749698",
     "exception": false,
     "start_time": "2023-04-28T09:27:59.746700",
     "status": "completed"
    },
    "tags": []
   },
   "source": [
    "# What is ResNet 50\n",
    "ResNet50 is a convolutional neural network (CNN) architecture that was introduced by Microsoft Research in 2015. It is a deep neural network that has 50 layers, and it achieved state-of-the-art results in image classification and object detection tasks on the ImageNet dataset. The name \"ResNet\" stands for \"Residual Network\", which refers to the use of residual connections between layers to overcome the vanishing gradient problem that can occur in deep neural networks.\n",
    "\n",
    "The architecture of ResNet50 is based on the idea of residual learning, which involves adding skip connections between layers to allow the network to learn residual functions. These residual functions capture the difference between the input and output of a layer, making it easier for the network to learn the underlying mapping between input and output.\n",
    "\n",
    "![](https://miro.medium.com/v2/resize:fit:1400/format:webp/0*tH9evuOFqk8F41FG.png)\n",
    "\n",
    "ResNet50 consists of multiple blocks of layers, each of which contains convolutional layers, batch normalization layers, and activation functions. The first block of layers performs convolution and pooling operations to extract low-level features from the input image, while subsequent blocks of layers progressively extract higher-level features. The skip connections between layers allow information to be passed directly from one layer to another, bypassing intermediate layers and improving the flow of information through the network.\n",
    "\n",
    "![](https://miro.medium.com/v2/resize:fit:1400/format:webp/1*rPktw9-nz-dy9CFcddMBdQ.jpeg)\n",
    "\n",
    "ResNet50 has been widely used in various computer vision tasks, including object recognition, object detection, and image segmentation. Its success has led to the development of even deeper ResNet architectures, such as ResNet101 and ResNet152, which have been shown to achieve even better performance on challenging visual recognition tasks."
   ]
  },
  {
   "cell_type": "code",
   "execution_count": 2,
   "id": "77dac4e8",
   "metadata": {
    "execution": {
     "iopub.execute_input": "2023-04-28T09:27:59.758561Z",
     "iopub.status.busy": "2023-04-28T09:27:59.757714Z",
     "iopub.status.idle": "2023-04-28T09:28:00.882729Z",
     "shell.execute_reply": "2023-04-28T09:28:00.881059Z"
    },
    "papermill": {
     "duration": 1.132929,
     "end_time": "2023-04-28T09:28:00.885865",
     "exception": false,
     "start_time": "2023-04-28T09:27:59.752936",
     "status": "completed"
    },
    "tags": []
   },
   "outputs": [
    {
     "name": "stdout",
     "output_type": "stream",
     "text": [
      "'Glioma (Astrocitoma, Ganglioglioma, Glioblastoma, Oligodendroglioma, Ependimoma) T1'\r\n",
      "'Glioma (Astrocitoma, Ganglioglioma, Glioblastoma, Oligodendroglioma, Ependimoma) T1C+'\r\n",
      "'Glioma (Astrocitoma, Ganglioglioma, Glioblastoma, Oligodendroglioma, Ependimoma) T2'\r\n",
      "'Meningioma (de Baixo Grau, Atípico, Anaplásico, Transicional) T1'\r\n",
      "'Meningioma (de Baixo Grau, Atípico, Anaplásico, Transicional) T1C+'\r\n",
      "'Meningioma (de Baixo Grau, Atípico, Anaplásico, Transicional) T2'\r\n",
      "'NORMAL T1'\r\n",
      "'NORMAL T2'\r\n",
      "'Neurocitoma (Central - Intraventricular, Extraventricular) T1'\r\n",
      "'Neurocitoma (Central - Intraventricular, Extraventricular) T1C+'\r\n",
      "'Neurocitoma (Central - Intraventricular, Extraventricular) T2'\r\n",
      "'Outros Tipos de Lesões (Abscessos, Cistos, Encefalopatias Diversas) T1'\r\n",
      "'Outros Tipos de Lesões (Abscessos, Cistos, Encefalopatias Diversas) T1C+'\r\n",
      "'Outros Tipos de Lesões (Abscessos, Cistos, Encefalopatias Diversas) T2'\r\n",
      "'Schwannoma (Acustico, Vestibular - Trigeminal) T1'\r\n",
      "'Schwannoma (Acustico, Vestibular - Trigeminal) T1C+'\r\n",
      "'Schwannoma (Acustico, Vestibular - Trigeminal) T2'\r\n"
     ]
    }
   ],
   "source": [
    "!ls /kaggle/input/brain-tumor-mri-images-17-classes"
   ]
  },
  {
   "cell_type": "code",
   "execution_count": 3,
   "id": "d8906c2f",
   "metadata": {
    "execution": {
     "iopub.execute_input": "2023-04-28T09:28:00.896087Z",
     "iopub.status.busy": "2023-04-28T09:28:00.895148Z",
     "iopub.status.idle": "2023-04-28T09:28:00.903079Z",
     "shell.execute_reply": "2023-04-28T09:28:00.901828Z"
    },
    "papermill": {
     "duration": 0.016798,
     "end_time": "2023-04-28T09:28:00.906421",
     "exception": false,
     "start_time": "2023-04-28T09:28:00.889623",
     "status": "completed"
    },
    "tags": []
   },
   "outputs": [],
   "source": [
    "class_size = len(os.listdir('/kaggle/input/brain-tumor-mri-images-17-classes'))\n",
    "dataset_dir=\"/kaggle/input/brain-tumor-mri-images-17-classes\"\n",
    "TARGET_SIZE=(224,224)\n",
    "BATCH_SIZE=16"
   ]
  },
  {
   "cell_type": "code",
   "execution_count": 4,
   "id": "d855c097",
   "metadata": {
    "execution": {
     "iopub.execute_input": "2023-04-28T09:28:00.916126Z",
     "iopub.status.busy": "2023-04-28T09:28:00.915673Z",
     "iopub.status.idle": "2023-04-28T09:28:00.921651Z",
     "shell.execute_reply": "2023-04-28T09:28:00.920272Z"
    },
    "papermill": {
     "duration": 0.014516,
     "end_time": "2023-04-28T09:28:00.924649",
     "exception": false,
     "start_time": "2023-04-28T09:28:00.910133",
     "status": "completed"
    },
    "tags": []
   },
   "outputs": [],
   "source": [
    "data_gen=ImageDataGenerator(preprocessing_function=preprocess_input, validation_split=0.20)"
   ]
  },
  {
   "cell_type": "code",
   "execution_count": 5,
   "id": "c0cb0fbb",
   "metadata": {
    "execution": {
     "iopub.execute_input": "2023-04-28T09:28:00.934856Z",
     "iopub.status.busy": "2023-04-28T09:28:00.933968Z",
     "iopub.status.idle": "2023-04-28T09:28:01.858830Z",
     "shell.execute_reply": "2023-04-28T09:28:01.857371Z"
    },
    "papermill": {
     "duration": 0.934104,
     "end_time": "2023-04-28T09:28:01.862425",
     "exception": false,
     "start_time": "2023-04-28T09:28:00.928321",
     "status": "completed"
    },
    "tags": []
   },
   "outputs": [
    {
     "name": "stdout",
     "output_type": "stream",
     "text": [
      "Found 3539 images belonging to 17 classes.\n",
      "Found 876 images belonging to 17 classes.\n"
     ]
    }
   ],
   "source": [
    "train_cap=data_gen.flow_from_directory(\n",
    "    dataset_dir,\n",
    "    target_size=TARGET_SIZE,\n",
    "    batch_size=BATCH_SIZE,\n",
    "    class_mode='categorical',\n",
    "    subset='training'\n",
    ")\n",
    "valid_cap=data_gen.flow_from_directory(\n",
    "    dataset_dir,\n",
    "    target_size=TARGET_SIZE,\n",
    "    batch_size=BATCH_SIZE,\n",
    "    class_mode='categorical',\n",
    "    subset='validation'\n",
    ")"
   ]
  },
  {
   "cell_type": "code",
   "execution_count": 6,
   "id": "b649336c",
   "metadata": {
    "execution": {
     "iopub.execute_input": "2023-04-28T09:28:01.873128Z",
     "iopub.status.busy": "2023-04-28T09:28:01.871925Z",
     "iopub.status.idle": "2023-04-28T09:28:09.564301Z",
     "shell.execute_reply": "2023-04-28T09:28:09.562822Z"
    },
    "papermill": {
     "duration": 7.70166,
     "end_time": "2023-04-28T09:28:09.568007",
     "exception": false,
     "start_time": "2023-04-28T09:28:01.866347",
     "status": "completed"
    },
    "tags": []
   },
   "outputs": [
    {
     "name": "stdout",
     "output_type": "stream",
     "text": [
      "Downloading data from https://storage.googleapis.com/tensorflow/keras-applications/resnet/resnet50_weights_tf_dim_ordering_tf_kernels_notop.h5\n",
      "94765736/94765736 [==============================] - 4s 0us/step\n"
     ]
    }
   ],
   "source": [
    "model=Sequential()\n",
    "model.add(ResNet50(\n",
    "    include_top=False,\n",
    "    pooling='avg',\n",
    "    weights='imagenet',\n",
    "))\n",
    "model.add(Dense(256, activation='relu',kernel_regularizer='l2'))\n",
    "model.add(Dropout(0.3))\n",
    "model.add(Dense(256, activation='relu',kernel_regularizer='l2'))\n",
    "model.add(Dropout(0.3))\n",
    "model.add(Dense(44,activation='relu',kernel_regularizer='l2'))\n",
    "model.add(Dropout(0.2))\n",
    "model.add(Dense(class_size,activation='softmax'))\n",
    "model.layers[0].trainable = False\n",
    "model.compile(optimizer='adam', loss='categorical_crossentropy',metrics=['accuracy'])\n",
    "red_lr = ReduceLROnPlateau(monitor='val_loss',factor=0.3,patience=3,min_lr=0.00000001)\n"
   ]
  },
  {
   "cell_type": "code",
   "execution_count": 7,
   "id": "1426286a",
   "metadata": {
    "execution": {
     "iopub.execute_input": "2023-04-28T09:28:09.587239Z",
     "iopub.status.busy": "2023-04-28T09:28:09.586756Z",
     "iopub.status.idle": "2023-04-28T16:07:23.066493Z",
     "shell.execute_reply": "2023-04-28T16:07:23.064740Z"
    },
    "papermill": {
     "duration": 23953.498553,
     "end_time": "2023-04-28T16:07:23.075472",
     "exception": false,
     "start_time": "2023-04-28T09:28:09.576919",
     "status": "completed"
    },
    "tags": []
   },
   "outputs": [
    {
     "data": {
      "application/vnd.jupyter.widget-view+json": {
       "model_id": "52b053bcfa564676946064794bbfe67b",
       "version_major": 2,
       "version_minor": 0
      },
      "text/plain": [
       "0epoch [00:00, ?epoch/s]"
      ]
     },
     "metadata": {},
     "output_type": "display_data"
    }
   ],
   "source": [
    "history=model.fit(\n",
    "    train_cap,\n",
    "    steps_per_epoch=len(train_cap),\n",
    "    epochs=50,\n",
    "    validation_data=valid_cap,\n",
    "    validation_steps=len(valid_cap),\n",
    "    verbose=0,\n",
    "    callbacks=[red_lr,TqdmCallback(verbose=0)]\n",
    "    )\n"
   ]
  },
  {
   "cell_type": "code",
   "execution_count": 8,
   "id": "e7336bc1",
   "metadata": {
    "execution": {
     "iopub.execute_input": "2023-04-28T16:07:23.095095Z",
     "iopub.status.busy": "2023-04-28T16:07:23.094617Z",
     "iopub.status.idle": "2023-04-28T16:07:24.373124Z",
     "shell.execute_reply": "2023-04-28T16:07:24.371668Z"
    },
    "papermill": {
     "duration": 1.291972,
     "end_time": "2023-04-28T16:07:24.376192",
     "exception": false,
     "start_time": "2023-04-28T16:07:23.084220",
     "status": "completed"
    },
    "tags": []
   },
   "outputs": [
    {
     "data": {
      "image/png": "[encoded data removed]",
      "text/plain": [
       "<Figure size 2000x600 with 2 Axes>"
      ]
     },
     "metadata": {},
     "output_type": "display_data"
    }
   ],
   "source": [
    "epochs = [i for i in range(50)]\n",
    "fig , ax = plt.subplots(1,2)\n",
    "train_acc = history.history['accuracy']\n",
    "train_loss = history.history['loss']\n",
    "test_acc = history.history['val_accuracy']\n",
    "test_loss = history.history['val_loss']\n",
    "\n",
    "fig.set_size_inches(20,6)\n",
    "ax[0].plot(epochs , train_loss , label = 'Training Loss')\n",
    "ax[0].plot(epochs , test_loss , label = 'Testing Loss')\n",
    "ax[0].set_title('Training & Testing Loss')\n",
    "ax[0].legend()\n",
    "ax[0].set_xlabel(\"Epochs\")\n",
    "\n",
    "ax[1].plot(epochs , train_acc , label = 'Training Accuracy')\n",
    "ax[1].plot(epochs , test_acc , label = 'Testing Accuracy')\n",
    "ax[1].set_title('Training & Testing Accuracy')\n",
    "ax[1].legend()\n",
    "ax[1].set_xlabel(\"Epochs\")\n",
    "plt.show()"
   ]
  },
  {
   "cell_type": "code",
   "execution_count": null,
   "id": "a15d2b6a",
   "metadata": {
    "papermill": {
     "duration": 0.009546,
     "end_time": "2023-04-28T16:07:24.396264",
     "exception": false,
     "start_time": "2023-04-28T16:07:24.386718",
     "status": "completed"
    },
    "tags": []
   },
   "outputs": [],
   "source": []
  }
 ],
 "metadata": {
  "kernelspec": {
   "display_name": "Python 3",
   "language": "python",
   "name": "python3"
  },
  "language_info": {
   "codemirror_mode": {
    "name": "ipython",
    "version": 3
   },
   "file_extension": ".py",
   "mimetype": "text/x-python",
   "name": "python",
   "nbconvert_exporter": "python",
   "pygments_lexer": "ipython3",
   "version": "3.7.12"
  },
  "papermill": {
   "default_parameters": {},
   "duration": 23989.023085,
   "end_time": "2023-04-28T16:07:27.424126",
   "environment_variables": {},
   "exception": null,
   "input_path": "__notebook__.ipynb",
   "output_path": "__notebook__.ipynb",
   "parameters": {},
   "start_time": "2023-04-28T09:27:38.401041",
   "version": "2.4.0"
  },
  "widgets": {
   "application/vnd.jupyter.widget-state+json": {
    "state": {
     "06f9a35b461e406eab5c2222a14736ce": {
      "model_module": "@jupyter-widgets/controls",
      "model_module_version": "1.5.0",
      "model_name": "HTMLModel",
      "state": {
       "_dom_classes": [],
       "_model_module": "@jupyter-widgets/controls",
       "_model_module_version": "1.5.0",
       "_model_name": "HTMLModel",
       "_view_count": null,
       "_view_module": "@jupyter-widgets/controls",
       "_view_module_version": "1.5.0",
       "_view_name": "HTMLView",
       "description": "",
       "description_tooltip": null,
       "layout": "IPY_MODEL_e34a43e8db8448239742b5491b815814",
       "placeholder": "​",
       "style": "IPY_MODEL_dc6ac959b0bf4f53a5cc5d673301f09b",
       "value": " 50/50 [6:39:13&lt;00:00, 482.93s/epoch, loss=0.802, accuracy=0.889, val_loss=1.09, val_accuracy=0.815, lr=1.97e-8]"
      }
     },
     "2643cb29ec5a4e24bbb2f77f8411aab0": {
      "model_module": "@jupyter-widgets/controls",
      "model_module_version": "1.5.0",
      "model_name": "DescriptionStyleModel",
      "state": {
       "_model_module": "@jupyter-widgets/controls",
       "_model_module_version": "1.5.0",
       "_model_name": "DescriptionStyleModel",
       "_view_count": null,
       "_view_module": "@jupyter-widgets/base",
       "_view_module_version": "1.2.0",
       "_view_name": "StyleView",
       "description_width": ""
      }
     },
     "52b053bcfa564676946064794bbfe67b": {
      "model_module": "@jupyter-widgets/controls",
      "model_module_version": "1.5.0",
      "model_name": "HBoxModel",
      "state": {
       "_dom_classes": [],
       "_model_module": "@jupyter-widgets/controls",
       "_model_module_version": "1.5.0",
       "_model_name": "HBoxModel",
       "_view_count": null,
       "_view_module": "@jupyter-widgets/controls",
       "_view_module_version": "1.5.0",
       "_view_name": "HBoxView",
       "box_style": "",
       "children": [
        "IPY_MODEL_fd97858f2f854f478d6677e951e65110",
        "IPY_MODEL_57a151ee34884e0fbde23d00c58988f7",
        "IPY_MODEL_06f9a35b461e406eab5c2222a14736ce"
       ],
       "layout": "IPY_MODEL_a0a0e0429970439093dbebe7bf560cee"
      }
     },
     "57a151ee34884e0fbde23d00c58988f7": {
      "model_module": "@jupyter-widgets/controls",
      "model_module_version": "1.5.0",
      "model_name": "FloatProgressModel",
      "state": {
       "_dom_classes": [],
       "_model_module": "@jupyter-widgets/controls",
       "_model_module_version": "1.5.0",
       "_model_name": "FloatProgressModel",
       "_view_count": null,
       "_view_module": "@jupyter-widgets/controls",
       "_view_module_version": "1.5.0",
       "_view_name": "ProgressView",
       "bar_style": "success",
       "description": "",
       "description_tooltip": null,
       "layout": "IPY_MODEL_af1db303cfb74b33a6ba0c8c8b76e8ae",
       "max": 50.0,
       "min": 0.0,
       "orientation": "horizontal",
       "style": "IPY_MODEL_edd6c26f4cc746b09737946841ec6553",
       "value": 50.0
      }
     },
     "a0a0e0429970439093dbebe7bf560cee": {
      "model_module": "@jupyter-widgets/base",
      "model_module_version": "1.2.0",
      "model_name": "LayoutModel",
      "state": {
       "_model_module": "@jupyter-widgets/base",
       "_model_module_version": "1.2.0",
       "_model_name": "LayoutModel",
       "_view_count": null,
       "_view_module": "@jupyter-widgets/base",
       "_view_module_version": "1.2.0",
       "_view_name": "LayoutView",
       "align_content": null,
       "align_items": null,
       "align_self": null,
       "border": null,
       "bottom": null,
       "display": null,
       "flex": null,
       "flex_flow": null,
       "grid_area": null,
       "grid_auto_columns": null,
       "grid_auto_flow": null,
       "grid_auto_rows": null,
       "grid_column": null,
       "grid_gap": null,
       "grid_row": null,
       "grid_template_areas": null,
       "grid_template_columns": null,
       "grid_template_rows": null,
       "height": null,
       "justify_content": null,
       "justify_items": null,
       "left": null,
       "margin": null,
       "max_height": null,
       "max_width": null,
       "min_height": null,
       "min_width": null,
       "object_fit": null,
       "object_position": null,
       "order": null,
       "overflow": null,
       "overflow_x": null,
       "overflow_y": null,
       "padding": null,
       "right": null,
       "top": null,
       "visibility": null,
       "width": null
      }
     },
     "af1db303cfb74b33a6ba0c8c8b76e8ae": {
      "model_module": "@jupyter-widgets/base",
      "model_module_version": "1.2.0",
      "model_name": "LayoutModel",
      "state": {
       "_model_module": "@jupyter-widgets/base",
       "_model_module_version": "1.2.0",
       "_model_name": "LayoutModel",
       "_view_count": null,
       "_view_module": "@jupyter-widgets/base",
       "_view_module_version": "1.2.0",
       "_view_name": "LayoutView",
       "align_content": null,
       "align_items": null,
       "align_self": null,
       "border": null,
       "bottom": null,
       "display": null,
       "flex": null,
       "flex_flow": null,
       "grid_area": null,
       "grid_auto_columns": null,
       "grid_auto_flow": null,
       "grid_auto_rows": null,
       "grid_column": null,
       "grid_gap": null,
       "grid_row": null,
       "grid_template_areas": null,
       "grid_template_columns": null,
       "grid_template_rows": null,
       "height": null,
       "justify_content": null,
       "justify_items": null,
       "left": null,
       "margin": null,
       "max_height": null,
       "max_width": null,
       "min_height": null,
       "min_width": null,
       "object_fit": null,
       "object_position": null,
       "order": null,
       "overflow": null,
       "overflow_x": null,
       "overflow_y": null,
       "padding": null,
       "right": null,
       "top": null,
       "visibility": null,
       "width": null
      }
     },
     "dc6ac959b0bf4f53a5cc5d673301f09b": {
      "model_module": "@jupyter-widgets/controls",
      "model_module_version": "1.5.0",
      "model_name": "DescriptionStyleModel",
      "state": {
       "_model_module": "@jupyter-widgets/controls",
       "_model_module_version": "1.5.0",
       "_model_name": "DescriptionStyleModel",
       "_view_count": null,
       "_view_module": "@jupyter-widgets/base",
       "_view_module_version": "1.2.0",
       "_view_name": "StyleView",
       "description_width": ""
      }
     },
     "e34a43e8db8448239742b5491b815814": {
      "model_module": "@jupyter-widgets/base",
      "model_module_version": "1.2.0",
      "model_name": "LayoutModel",
      "state": {
       "_model_module": "@jupyter-widgets/base",
       "_model_module_version": "1.2.0",
       "_model_name": "LayoutModel",
       "_view_count": null,
       "_view_module": "@jupyter-widgets/base",
       "_view_module_version": "1.2.0",
       "_view_name": "LayoutView",
       "align_content": null,
       "align_items": null,
       "align_self": null,
       "border": null,
       "bottom": null,
       "display": null,
       "flex": null,
       "flex_flow": null,
       "grid_area": null,
       "grid_auto_columns": null,
       "grid_auto_flow": null,
       "grid_auto_rows": null,
       "grid_column": null,
       "grid_gap": null,
       "grid_row": null,
       "grid_template_areas": null,
       "grid_template_columns": null,
       "grid_template_rows": null,
       "height": null,
       "justify_content": null,
       "justify_items": null,
       "left": null,
       "margin": null,
       "max_height": null,
       "max_width": null,
       "min_height": null,
       "min_width": null,
       "object_fit": null,
       "object_position": null,
       "order": null,
       "overflow": null,
       "overflow_x": null,
       "overflow_y": null,
       "padding": null,
       "right": null,
       "top": null,
       "visibility": null,
       "width": null
      }
     },
     "edd6c26f4cc746b09737946841ec6553": {
      "model_module": "@jupyter-widgets/controls",
      "model_module_version": "1.5.0",
      "model_name": "ProgressStyleModel",
      "state": {
       "_model_module": "@jupyter-widgets/controls",
       "_model_module_version": "1.5.0",
       "_model_name": "ProgressStyleModel",
       "_view_count": null,
       "_view_module": "@jupyter-widgets/base",
       "_view_module_version": "1.2.0",
       "_view_name": "StyleView",
       "bar_color": null,
       "description_width": ""
      }
     },
     "f000623e93d044caac6f4b03e5586d4f": {
      "model_module": "@jupyter-widgets/base",
      "model_module_version": "1.2.0",
      "model_name": "LayoutModel",
      "state": {
       "_model_module": "@jupyter-widgets/base",
       "_model_module_version": "1.2.0",
       "_model_name": "LayoutModel",
       "_view_count": null,
       "_view_module": "@jupyter-widgets/base",
       "_view_module_version": "1.2.0",
       "_view_name": "LayoutView",
       "align_content": null,
       "align_items": null,
       "align_self": null,
       "border": null,
       "bottom": null,
       "display": null,
       "flex": null,
       "flex_flow": null,
       "grid_area": null,
       "grid_auto_columns": null,
       "grid_auto_flow": null,
       "grid_auto_rows": null,
       "grid_column": null,
       "grid_gap": null,
       "grid_row": null,
       "grid_template_areas": null,
       "grid_template_columns": null,
       "grid_template_rows": null,
       "height": null,
       "justify_content": null,
       "justify_items": null,
       "left": null,
       "margin": null,
       "max_height": null,
       "max_width": null,
       "min_height": null,
       "min_width": null,
       "object_fit": null,
       "object_position": null,
       "order": null,
       "overflow": null,
       "overflow_x": null,
       "overflow_y": null,
       "padding": null,
       "right": null,
       "top": null,
       "visibility": null,
       "width": null
      }
     },
     "fd97858f2f854f478d6677e951e65110": {
      "model_module": "@jupyter-widgets/controls",
      "model_module_version": "1.5.0",
      "model_name": "HTMLModel",
      "state": {
       "_dom_classes": [],
       "_model_module": "@jupyter-widgets/controls",
       "_model_module_version": "1.5.0",
       "_model_name": "HTMLModel",
       "_view_count": null,
       "_view_module": "@jupyter-widgets/controls",
       "_view_module_version": "1.5.0",
       "_view_name": "HTMLView",
       "description": "",
       "description_tooltip": null,
       "layout": "IPY_MODEL_f000623e93d044caac6f4b03e5586d4f",
       "placeholder": "​",
       "style": "IPY_MODEL_2643cb29ec5a4e24bbb2f77f8411aab0",
       "value": "100%"
      }
     }
    },
    "version_major": 2,
    "version_minor": 0
   }
  }
 },
 "nbformat": 4,
 "nbformat_minor": 5
}
